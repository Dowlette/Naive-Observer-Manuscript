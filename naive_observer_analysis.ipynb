{
 "cells": [
  {
   "cell_type": "markdown",
   "id": "281ba554",
   "metadata": {},
   "source": [
    "# Naive Observer Analysis\n",
    "\n",
    "Example of analysis of categorization by naive human observers of morphological images of spheroids under different treatments. Observers were told to categorize images into four categories, but without being told what the categories corresponded to, or what features to use."
   ]
  },
  {
   "cell_type": "code",
   "execution_count": null,
   "id": "b90633c1",
   "metadata": {},
   "outputs": [],
   "source": [
    "# Import block\n",
    "\n",
    "import pandas as pd\n",
    "import numpy as np\n",
    "import matplotlib.pyplot as plt\n",
    "\n",
    "import naive_observer_functions as nof"
   ]
  },
  {
   "cell_type": "markdown",
   "id": "c12f5a77",
   "metadata": {},
   "source": [
    "### Real data"
   ]
  },
  {
   "cell_type": "code",
   "execution_count": null,
   "id": "5bfe8476",
   "metadata": {},
   "outputs": [],
   "source": [
    "# Example data included in repo\n",
    "datafile = 'datasets/raw/RawDatasetZ.csv'\n",
    "\n",
    "# Load the data file\n",
    "df_raw = nof.load_labels(datafile)"
   ]
  },
  {
   "cell_type": "code",
   "execution_count": null,
   "id": "d7c6f966",
   "metadata": {},
   "outputs": [],
   "source": [
    "df_raw.info()"
   ]
  },
  {
   "cell_type": "code",
   "execution_count": null,
   "id": "8ea3e1cc",
   "metadata": {},
   "outputs": [],
   "source": [
    "df_raw.head()"
   ]
  },
  {
   "cell_type": "markdown",
   "id": "7790fffb",
   "metadata": {},
   "source": [
    "Rows are unique images. Columns are different Observers. The entry at $(m,n)$ gives the label (category) assigned to the $m$th image by the $n$th observer. Note that labels have no consistency across observers; they were not instructed with any meaning to the labels, other than there were 4 categories overall."
   ]
  },
  {
   "cell_type": "code",
   "execution_count": null,
   "id": "3715b79f",
   "metadata": {},
   "outputs": [],
   "source": [
    "# Make similarity matrix\n",
    "df_similarity = nof.make_similarity_matrix(df_raw)\n",
    "\n",
    "# Sort via the corrgram method\n",
    "df_sorted = nof.corrgram_sort(df_similarity)"
   ]
  },
  {
   "cell_type": "code",
   "execution_count": null,
   "id": "99a173f0",
   "metadata": {},
   "outputs": [],
   "source": [
    "# Column names are the Image IDs; the same set in the same order applies to the rows, although it is\n",
    "# not included in the index\n",
    "\n",
    "print(f'The similarity matrix has shape {df_similarity.shape}')\n",
    "df_similarity.iloc[:10,:10]"
   ]
  },
  {
   "cell_type": "markdown",
   "id": "601e1818",
   "metadata": {},
   "source": [
    "The similarity matrix is symmetric, and the entry at $(m,n)$ gives the number of observers who placed the $m$th and $n$th images into the same category."
   ]
  },
  {
   "cell_type": "code",
   "execution_count": null,
   "id": "bcc8b071",
   "metadata": {},
   "outputs": [],
   "source": [
    "print(f'The sorted similarity matrix has shape {df_sorted.shape}')\n",
    "df_sorted.iloc[:10,:10]"
   ]
  },
  {
   "cell_type": "markdown",
   "id": "356d15ce",
   "metadata": {},
   "source": [
    "By sorting the matrix using the corrgram method, we account for the arbitrariness of the observer-assigned categories, and seek any blocks of consistent pairing of images."
   ]
  },
  {
   "cell_type": "code",
   "execution_count": null,
   "id": "55cfe2d7",
   "metadata": {},
   "outputs": [],
   "source": [
    "# Plot heatmaps\n",
    "nof.plot_similarity_matrix(df_similarity, title=\"Similarity of \" + datafile)\n",
    "nof.plot_similarity_matrix(df_sorted, title=\"Sorted Similarity of \" + datafile)"
   ]
  },
  {
   "cell_type": "markdown",
   "id": "4079bb84",
   "metadata": {},
   "source": [
    "The two heatmaps contain the same information, just arrayed in a different order. When sorted, there is a clear indication of two major blocks; these correspond to conditions with and without oxygen deprivation, which observers clearly sorted differently. It is ess clear if observers strongly discriminated glucose deprivation."
   ]
  },
  {
   "cell_type": "markdown",
   "id": "4eeb5c8a",
   "metadata": {},
   "source": [
    "### Simulated data\n",
    "\n",
    "In order to better understand how the observed classification compares to different levels of image discrimination ability, we simulate observers parameterized by the probabilities they asign an image of a given type to each class label. For four image types, there are thus four sets of four probabilities, or 16 parameters total (only 12 of which are free, because each \"row\" must sum to one).\n",
    "\n",
    "For example, a simulation with 'GD' probabilities $(0.25,0.25,0.25,0.25)$ and 'OD' probabilities $(0.1,0.1,0.4,0.4)$ simulates an observer completely unable to discriminate glucose deprivation images from any others, but who gives oxygen deprivation a 3 or a 4 label 80% of the time. "
   ]
  },
  {
   "cell_type": "code",
   "execution_count": null,
   "id": "0dbc0342",
   "metadata": {},
   "outputs": [],
   "source": [
    "config_file = 'datasets/simulated/NaiveObserver_SimulationConfig.json'\n",
    "config = nof.get_config(config_file)  # Parse JSON of simulation parameters\n",
    "\n",
    "dict_simulated = nof.create_simulated_matrices(config)"
   ]
  },
  {
   "cell_type": "code",
   "execution_count": null,
   "id": "a7dd6729",
   "metadata": {},
   "outputs": [],
   "source": [
    "# Plot an example, in both raw and sorted versions\n",
    "\n",
    "case_name = '25_25_25_25'\n",
    "\n",
    "df_simulated = dict_simulated[case_name]\n",
    "df_simulated_sorted = nof.corrgram_sort(df_simulated)\n",
    "\n",
    "nof.plot_similarity_matrix(df_simulated, title=\"Similarity of \" + case_name)\n",
    "nof.plot_similarity_matrix(df_simulated_sorted, title=\"Sorted Similarity of \" + case_name)"
   ]
  },
  {
   "cell_type": "markdown",
   "id": "6e6f4b78",
   "metadata": {},
   "source": [
    "In this example, all observers give labels at random, and even when sorting the similarity matrix (to highlight spuriously coincident labels) there is no discernable structure."
   ]
  },
  {
   "cell_type": "code",
   "execution_count": null,
   "id": "58b59a34",
   "metadata": {},
   "outputs": [],
   "source": [
    "# Plot a second example, in both raw and sorted versions\n",
    "\n",
    "case_name = '45_5_45_5'\n",
    "\n",
    "df_simulated = dict_simulated[case_name]\n",
    "df_simulated_sorted = nof.corrgram_sort(df_simulated)\n",
    "\n",
    "nof.plot_similarity_matrix(df_simulated, title=\"Similarity of \" + case_name)\n",
    "nof.plot_similarity_matrix(df_simulated_sorted, title=\"Sorted Similarity of \" + case_name)"
   ]
  },
  {
   "cell_type": "markdown",
   "id": "e18fbd03",
   "metadata": {},
   "source": [
    "In this case, observers separate the group CTRL+GD from the group OD+OGD 90% of the time, but give labels at random within each grouping.\n",
    "\n",
    "In the real data, the labels have no consistency across observers, so the unsorted similarity matrices have no large scale structure (that is the point of the sorting). We did not add this random permutation of label indices to the simulated observers, so the \"raw\" similarity matrix has more apparent visual structure. However, it is the sorted matrix that is directly comparable between real and simulated data."
   ]
  },
  {
   "cell_type": "code",
   "execution_count": null,
   "id": "48a3fee8",
   "metadata": {},
   "outputs": [],
   "source": []
  }
 ],
 "metadata": {
  "kernelspec": {
   "display_name": "Python 3 (ipykernel)",
   "language": "python",
   "name": "python3"
  },
  "language_info": {
   "codemirror_mode": {
    "name": "ipython",
    "version": 3
   },
   "file_extension": ".py",
   "mimetype": "text/x-python",
   "name": "python",
   "nbconvert_exporter": "python",
   "pygments_lexer": "ipython3",
   "version": "3.10.6"
  }
 },
 "nbformat": 4,
 "nbformat_minor": 5
}
